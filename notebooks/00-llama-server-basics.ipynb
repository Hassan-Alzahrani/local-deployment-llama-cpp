{
 "cells": [
  {
   "cell_type": "code",
   "execution_count": 19,
   "id": "422dc501-69bf-4105-b800-9f14c596c67d",
   "metadata": {},
   "outputs": [],
   "source": [
    "import json\n",
    "import requests\n",
    "from IPython.display import JSON, Markdown\n"
   ]
  },
  {
   "cell_type": "markdown",
   "id": "8f0fe23f-3f19-433c-a4ee-d9e3710ce3e4",
   "metadata": {},
   "source": [
    "# LLaMA C++ HTTP Server Basics\n"
   ]
  },
  {
   "cell_type": "code",
   "execution_count": 1,
   "id": "1e122ad2-6066-42b2-827a-6a59870a0276",
   "metadata": {},
   "outputs": [
    {
     "name": "stdout",
     "output_type": "stream",
     "text": [
      "/Users/pughdr/Documents/Training/kaust-generative-ai/local-deployment-llama-cpp/env/bin/llama-server\n"
     ]
    }
   ],
   "source": [
    "%%bash\n",
    "\n",
    "which llama-server"
   ]
  },
  {
   "cell_type": "code",
   "execution_count": 2,
   "id": "6fd095ac-8781-4d1a-b44d-69b68dee4e0c",
   "metadata": {},
   "outputs": [
    {
     "name": "stdout",
     "output_type": "stream",
     "text": [
      "----- common params -----\n",
      "\n",
      "-h,    --help, --usage                  print usage and exit\n",
      "--version                               show version and build info\n",
      "--verbose-prompt                        print a verbose prompt before generation (default: false)\n",
      "-t,    --threads N                      number of threads to use during generation (default: -1)\n",
      "                                        (env: LLAMA_ARG_THREADS)\n",
      "-tb,   --threads-batch N                number of threads to use during batch and prompt processing (default:\n",
      "                                        same as --threads)\n",
      "-C,    --cpu-mask M                     CPU affinity mask: arbitrarily long hex. Complements cpu-range\n",
      "                                        (default: \"\")\n",
      "-Cr,   --cpu-range lo-hi                range of CPUs for affinity. Complements --cpu-mask\n",
      "--cpu-strict <0|1>                      use strict CPU placement (default: 0)\n",
      "--prio N                                set process/thread priority : 0-normal, 1-medium, 2-high, 3-realtime\n",
      "                                        (default: 0)\n",
      "--poll <0...100>                        use polling level to wait for work (0 - no polling, default: 50)\n",
      "-Cb,   --cpu-mask-batch M               CPU affinity mask: arbitrarily long hex. Complements cpu-range-batch\n",
      "                                        (default: same as --cpu-mask)\n",
      "-Crb,  --cpu-range-batch lo-hi          ranges of CPUs for affinity. Complements --cpu-mask-batch\n",
      "--cpu-strict-batch <0|1>                use strict CPU placement (default: same as --cpu-strict)\n",
      "--prio-batch N                          set process/thread priority : 0-normal, 1-medium, 2-high, 3-realtime\n",
      "                                        (default: 0)\n",
      "--poll-batch <0|1>                      use polling to wait for work (default: same as --poll)\n",
      "-c,    --ctx-size N                     size of the prompt context (default: 0, 0 = loaded from model)\n",
      "                                        (env: LLAMA_ARG_CTX_SIZE)\n",
      "-n,    --predict, --n-predict N         number of tokens to predict (default: -1, -1 = infinity, -2 = until\n",
      "                                        context filled)\n",
      "                                        (env: LLAMA_ARG_N_PREDICT)\n",
      "-b,    --batch-size N                   logical maximum batch size (default: 2048)\n",
      "                                        (env: LLAMA_ARG_BATCH)\n",
      "-ub,   --ubatch-size N                  physical maximum batch size (default: 512)\n",
      "                                        (env: LLAMA_ARG_UBATCH)\n",
      "--keep N                                number of tokens to keep from the initial prompt (default: 0, -1 =\n",
      "                                        all)\n",
      "-fa,   --flash-attn                     enable Flash Attention (default: disabled)\n",
      "                                        (env: LLAMA_ARG_FLASH_ATTN)\n",
      "-p,    --prompt PROMPT                  prompt to start generation with\n",
      "--no-perf                               disable internal libllama performance timings (default: false)\n",
      "                                        (env: LLAMA_ARG_NO_PERF)\n",
      "-f,    --file FNAME                     a file containing the prompt (default: none)\n",
      "-bf,   --binary-file FNAME              binary file containing the prompt (default: none)\n",
      "-e,    --escape                         process escapes sequences (\\n, \\r, \\t, \\', \\\", \\\\) (default: true)\n",
      "--no-escape                             do not process escape sequences\n",
      "--rope-scaling {none,linear,yarn}       RoPE frequency scaling method, defaults to linear unless specified by\n",
      "                                        the model\n",
      "                                        (env: LLAMA_ARG_ROPE_SCALING_TYPE)\n",
      "--rope-scale N                          RoPE context scaling factor, expands context by a factor of N\n",
      "                                        (env: LLAMA_ARG_ROPE_SCALE)\n",
      "--rope-freq-base N                      RoPE base frequency, used by NTK-aware scaling (default: loaded from\n",
      "                                        model)\n",
      "                                        (env: LLAMA_ARG_ROPE_FREQ_BASE)\n",
      "--rope-freq-scale N                     RoPE frequency scaling factor, expands context by a factor of 1/N\n",
      "                                        (env: LLAMA_ARG_ROPE_FREQ_SCALE)\n",
      "--yarn-orig-ctx N                       YaRN: original context size of model (default: 0 = model training\n",
      "                                        context size)\n",
      "                                        (env: LLAMA_ARG_YARN_ORIG_CTX)\n",
      "--yarn-ext-factor N                     YaRN: extrapolation mix factor (default: -1.0, 0.0 = full\n",
      "                                        interpolation)\n",
      "                                        (env: LLAMA_ARG_YARN_EXT_FACTOR)\n",
      "--yarn-attn-factor N                    YaRN: scale sqrt(t) or attention magnitude (default: 1.0)\n",
      "                                        (env: LLAMA_ARG_YARN_ATTN_FACTOR)\n",
      "--yarn-beta-slow N                      YaRN: high correction dim or alpha (default: 1.0)\n",
      "                                        (env: LLAMA_ARG_YARN_BETA_SLOW)\n",
      "--yarn-beta-fast N                      YaRN: low correction dim or beta (default: 32.0)\n",
      "                                        (env: LLAMA_ARG_YARN_BETA_FAST)\n",
      "-gan,  --grp-attn-n N                   group-attention factor (default: 1)\n",
      "                                        (env: LLAMA_ARG_GRP_ATTN_N)\n",
      "-gaw,  --grp-attn-w N                   group-attention width (default: 512.0)\n",
      "                                        (env: LLAMA_ARG_GRP_ATTN_W)\n",
      "-dkvc, --dump-kv-cache                  verbose print of the KV cache\n",
      "-nkvo, --no-kv-offload                  disable KV offload\n",
      "                                        (env: LLAMA_ARG_NO_KV_OFFLOAD)\n",
      "-ctk,  --cache-type-k TYPE              KV cache data type for K (default: f16)\n",
      "                                        (env: LLAMA_ARG_CACHE_TYPE_K)\n",
      "-ctv,  --cache-type-v TYPE              KV cache data type for V (default: f16)\n",
      "                                        (env: LLAMA_ARG_CACHE_TYPE_V)\n",
      "-dt,   --defrag-thold N                 KV cache defragmentation threshold (default: -1.0, < 0 - disabled)\n",
      "                                        (env: LLAMA_ARG_DEFRAG_THOLD)\n",
      "-np,   --parallel N                     number of parallel sequences to decode (default: 1)\n",
      "                                        (env: LLAMA_ARG_N_PARALLEL)\n",
      "--mlock                                 force system to keep model in RAM rather than swapping or compressing\n",
      "                                        (env: LLAMA_ARG_MLOCK)\n",
      "--no-mmap                               do not memory-map model (slower load but may reduce pageouts if not\n",
      "                                        using mlock)\n",
      "                                        (env: LLAMA_ARG_NO_MMAP)\n",
      "--numa TYPE                             attempt optimizations that help on some NUMA systems\n",
      "                                        - distribute: spread execution evenly over all nodes\n",
      "                                        - isolate: only spawn threads on CPUs on the node that execution\n",
      "                                        started on\n",
      "                                        - numactl: use the CPU map provided by numactl\n",
      "                                        if run without this previously, it is recommended to drop the system\n",
      "                                        page cache before using this\n",
      "                                        see https://github.com/ggerganov/llama.cpp/issues/1437\n",
      "                                        (env: LLAMA_ARG_NUMA)\n",
      "-ngl,  --gpu-layers, --n-gpu-layers N   number of layers to store in VRAM\n",
      "                                        (env: LLAMA_ARG_N_GPU_LAYERS)\n",
      "-sm,   --split-mode {none,layer,row}    how to split the model across multiple GPUs, one of:\n",
      "                                        - none: use one GPU only\n",
      "                                        - layer (default): split layers and KV across GPUs\n",
      "                                        - row: split rows across GPUs\n",
      "                                        (env: LLAMA_ARG_SPLIT_MODE)\n",
      "-ts,   --tensor-split N0,N1,N2,...      fraction of the model to offload to each GPU, comma-separated list of\n",
      "                                        proportions, e.g. 3,1\n",
      "                                        (env: LLAMA_ARG_TENSOR_SPLIT)\n",
      "-mg,   --main-gpu INDEX                 the GPU to use for the model (with split-mode = none), or for\n",
      "                                        intermediate results and KV (with split-mode = row) (default: 0)\n",
      "                                        (env: LLAMA_ARG_MAIN_GPU)\n",
      "--check-tensors                         check model tensor data for invalid values (default: false)\n",
      "--override-kv KEY=TYPE:VALUE            advanced option to override model metadata by key. may be specified\n",
      "                                        multiple times.\n",
      "                                        types: int, float, bool, str. example: --override-kv\n",
      "                                        tokenizer.ggml.add_bos_token=bool:false\n",
      "--lora FNAME                            path to LoRA adapter (can be repeated to use multiple adapters)\n",
      "--lora-scaled FNAME SCALE               path to LoRA adapter with user defined scaling (can be repeated to use\n",
      "                                        multiple adapters)\n",
      "--control-vector FNAME                  add a control vector\n",
      "                                        note: this argument can be repeated to add multiple control vectors\n",
      "--control-vector-scaled FNAME SCALE     add a control vector with user defined scaling SCALE\n",
      "                                        note: this argument can be repeated to add multiple scaled control\n",
      "                                        vectors\n",
      "--control-vector-layer-range START END\n",
      "                                        layer range to apply the control vector(s) to, start and end inclusive\n",
      "-m,    --model FNAME                    model path (default: `models/$filename` with filename from `--hf-file`\n",
      "                                        or `--model-url` if set, otherwise models/7B/ggml-model-f16.gguf)\n",
      "                                        (env: LLAMA_ARG_MODEL)\n",
      "-mu,   --model-url MODEL_URL            model download url (default: unused)\n",
      "                                        (env: LLAMA_ARG_MODEL_URL)\n",
      "-hfr,  --hf-repo REPO                   Hugging Face model repository (default: unused)\n",
      "                                        (env: LLAMA_ARG_HF_REPO)\n",
      "-hff,  --hf-file FILE                   Hugging Face model file (default: unused)\n",
      "                                        (env: LLAMA_ARG_HF_FILE)\n",
      "-hft,  --hf-token TOKEN                 Hugging Face access token (default: value from HF_TOKEN environment\n",
      "                                        variable)\n",
      "                                        (env: HF_TOKEN)\n",
      "-ld,   --logdir LOGDIR                  path under which to save YAML logs (no logging if unset)\n",
      "--log-disable                           Log disable\n",
      "--log-file FNAME                        Log to file\n",
      "--log-colors                            Enable colored logging\n",
      "                                        (env: LLAMA_LOG_COLORS)\n",
      "-v,    --verbose, --log-verbose         Set verbosity level to infinity (i.e. log all messages, useful for\n",
      "                                        debugging)\n",
      "-lv,   --verbosity, --log-verbosity N   Set the verbosity threshold. Messages with a higher verbosity will be\n",
      "                                        ignored.\n",
      "                                        (env: LLAMA_LOG_VERBOSITY)\n",
      "--log-prefix                            Enable prefx in log messages\n",
      "                                        (env: LLAMA_LOG_PREFIX)\n",
      "--log-timestamps                        Enable timestamps in log messages\n",
      "                                        (env: LLAMA_LOG_TIMESTAMPS)\n",
      "\n",
      "\n",
      "----- sampling params -----\n",
      "\n",
      "--samplers SAMPLERS                     samplers that will be used for generation in the order, separated by\n",
      "                                        ';'\n",
      "                                        (default: top_k;tfs_z;typ_p;top_p;min_p;temperature)\n",
      "-s,    --seed SEED                      RNG seed (default: 4294967295, use random seed for 4294967295)\n",
      "--sampling-seq SEQUENCE                 simplified sequence for samplers that will be used (default: kfypmt)\n",
      "--ignore-eos                            ignore end of stream token and continue generating (implies\n",
      "                                        --logit-bias EOS-inf)\n",
      "--penalize-nl                           penalize newline tokens (default: false)\n",
      "--temp N                                temperature (default: 0.8)\n",
      "--top-k N                               top-k sampling (default: 40, 0 = disabled)\n",
      "--top-p N                               top-p sampling (default: 0.9, 1.0 = disabled)\n",
      "--min-p N                               min-p sampling (default: 0.1, 0.0 = disabled)\n",
      "--tfs N                                 tail free sampling, parameter z (default: 1.0, 1.0 = disabled)\n",
      "--typical N                             locally typical sampling, parameter p (default: 1.0, 1.0 = disabled)\n",
      "--repeat-last-n N                       last n tokens to consider for penalize (default: 64, 0 = disabled, -1\n",
      "                                        = ctx_size)\n",
      "--repeat-penalty N                      penalize repeat sequence of tokens (default: 1.0, 1.0 = disabled)\n",
      "--presence-penalty N                    repeat alpha presence penalty (default: 0.0, 0.0 = disabled)\n",
      "--frequency-penalty N                   repeat alpha frequency penalty (default: 0.0, 0.0 = disabled)\n",
      "--dynatemp-range N                      dynamic temperature range (default: 0.0, 0.0 = disabled)\n",
      "--dynatemp-exp N                        dynamic temperature exponent (default: 1.0)\n",
      "--mirostat N                            use Mirostat sampling.\n",
      "                                        Top K, Nucleus, Tail Free and Locally Typical samplers are ignored if\n",
      "                                        used.\n",
      "                                        (default: 0, 0 = disabled, 1 = Mirostat, 2 = Mirostat 2.0)\n",
      "--mirostat-lr N                         Mirostat learning rate, parameter eta (default: 0.1)\n",
      "--mirostat-ent N                        Mirostat target entropy, parameter tau (default: 5.0)\n",
      "-l,    --logit-bias TOKEN_ID(+/-)BIAS   modifies the likelihood of token appearing in the completion,\n",
      "                                        i.e. `--logit-bias 15043+1` to increase likelihood of token ' Hello',\n",
      "                                        or `--logit-bias 15043-1` to decrease likelihood of token ' Hello'\n",
      "--grammar GRAMMAR                       BNF-like grammar to constrain generations (see samples in grammars/\n",
      "                                        dir) (default: '')\n",
      "--grammar-file FNAME                    file to read grammar from\n",
      "-j,    --json-schema SCHEMA             JSON schema to constrain generations (https://json-schema.org/), e.g.\n",
      "                                        `{}` for any JSON object\n",
      "                                        For schemas w/ external $refs, use --grammar +\n",
      "                                        example/json_schema_to_grammar.py instead\n",
      "\n",
      "\n",
      "----- example-specific params -----\n",
      "\n",
      "--no-context-shift                      disables context shift on inifinite text generation (default:\n",
      "                                        disabled)\n",
      "                                        (env: LLAMA_ARG_NO_CONTEXT_SHIFT)\n",
      "-sp,   --special                        special tokens output enabled (default: false)\n",
      "--spm-infill                            use Suffix/Prefix/Middle pattern for infill (instead of\n",
      "                                        Prefix/Suffix/Middle) as some models prefer this. (default: disabled)\n",
      "--pooling {none,mean,cls,last,rank}     pooling type for embeddings, use model default if unspecified\n",
      "                                        (env: LLAMA_ARG_POOLING)\n",
      "-cb,   --cont-batching                  enable continuous batching (a.k.a dynamic batching) (default: enabled)\n",
      "                                        (env: LLAMA_ARG_CONT_BATCHING)\n",
      "-nocb, --no-cont-batching               disable continuous batching\n",
      "                                        (env: LLAMA_ARG_NO_CONT_BATCHING)\n",
      "-a,    --alias STRING                   set alias for model name (to be used by REST API)\n",
      "                                        (env: LLAMA_ARG_ALIAS)\n",
      "--host HOST                             ip address to listen (default: 127.0.0.1)\n",
      "                                        (env: LLAMA_ARG_HOST)\n",
      "--port PORT                             port to listen (default: 8080)\n",
      "                                        (env: LLAMA_ARG_PORT)\n",
      "--path PATH                             path to serve static files from (default: )\n",
      "                                        (env: LLAMA_ARG_STATIC_PATH)\n",
      "--embedding, --embeddings               restrict to only support embedding use case; use only with dedicated\n",
      "                                        embedding models (default: disabled)\n",
      "                                        (env: LLAMA_ARG_EMBEDDINGS)\n",
      "--reranking, --rerank                   enable reranking endpoint on server (default: disabled)\n",
      "                                        (env: LLAMA_ARG_RERANKING)\n",
      "--api-key KEY                           API key to use for authentication (default: none)\n",
      "                                        (env: LLAMA_API_KEY)\n",
      "--api-key-file FNAME                    path to file containing API keys (default: none)\n",
      "--ssl-key-file FNAME                    path to file a PEM-encoded SSL private key\n",
      "                                        (env: LLAMA_ARG_SSL_KEY_FILE)\n",
      "--ssl-cert-file FNAME                   path to file a PEM-encoded SSL certificate\n",
      "                                        (env: LLAMA_ARG_SSL_CERT_FILE)\n",
      "-to,   --timeout N                      server read/write timeout in seconds (default: 600)\n",
      "                                        (env: LLAMA_ARG_TIMEOUT)\n",
      "--threads-http N                        number of threads used to process HTTP requests (default: -1)\n",
      "                                        (env: LLAMA_ARG_THREADS_HTTP)\n",
      "-spf,  --system-prompt-file FNAME       set a file to load a system prompt (initial prompt of all slots), this\n",
      "                                        is useful for chat applications\n",
      "--metrics                               enable prometheus compatible metrics endpoint (default: disabled)\n",
      "                                        (env: LLAMA_ARG_ENDPOINT_METRICS)\n",
      "--no-slots                              disables slots monitoring endpoint (default: enabled)\n",
      "                                        (env: LLAMA_ARG_NO_ENDPOINT_SLOTS)\n",
      "--slot-save-path PATH                   path to save slot kv cache (default: disabled)\n",
      "--chat-template JINJA_TEMPLATE          set custom jinja chat template (default: template taken from model's\n",
      "                                        metadata)\n",
      "                                        if suffix/prefix are specified, template will be disabled\n",
      "                                        only commonly used templates are accepted:\n",
      "                                        https://github.com/ggerganov/llama.cpp/wiki/Templates-supported-by-llama_chat_apply_template\n",
      "                                        (env: LLAMA_ARG_CHAT_TEMPLATE)\n",
      "-sps,  --slot-prompt-similarity SIMILARITY\n",
      "                                        how much the prompt of a request must match the prompt of a slot in\n",
      "                                        order to use that slot (default: 0.50, 0.0 = disabled)\n",
      "--lora-init-without-apply               load LoRA adapters without applying them (apply later via POST\n",
      "                                        /lora-adapters) (default: disabled)\n"
     ]
    }
   ],
   "source": [
    "%%bash\n",
    "\n",
    "llama-server --help"
   ]
  },
  {
   "cell_type": "markdown",
   "id": "187a2fe2-bd19-4e38-91f7-204b30477580",
   "metadata": {},
   "source": [
    "## Quick Start\n",
    "\n",
    "To get started right away, open a terminal and run the following command, making sure to use the correct path for the model you have.\n",
    "\n",
    "```bash\n",
    "MODEL=\"./models/gemma-1.1-7b-it.Q4_K_M.gguf\"\n",
    "llama-server \\\n",
    "    --model $MODEL \\\n",
    "    --host localhost \\\n",
    "    --port 8080\n",
    "```\n"
   ]
  },
  {
   "cell_type": "markdown",
   "id": "158a2033-7202-49d7-959e-8b8ca17146d7",
   "metadata": {},
   "source": [
    "## Health Check"
   ]
  },
  {
   "cell_type": "code",
   "execution_count": 20,
   "id": "e1418266-d07d-4bca-84da-fd38cc9e0f16",
   "metadata": {},
   "outputs": [
    {
     "name": "stdout",
     "output_type": "stream",
     "text": [
      "b'{\"status\":\"ok\"}'\n"
     ]
    }
   ],
   "source": [
    "response = requests.get(\"http://localhost:8080/health\")\n",
    "\n",
    "print(response.content)"
   ]
  },
  {
   "cell_type": "markdown",
   "id": "397c4a12-9944-483c-bba4-44038df85905",
   "metadata": {},
   "source": [
    "### Response Format\n",
    "\n",
    "- HTTP status code 503\n",
    "  - Body: `{\"error\": {\"code\": 503, \"message\": \"Loading model\", \"type\": \"unavailable_error\"}}`\n",
    "  - Explanation: the model is still being loaded.\n",
    "- HTTP status code 200\n",
    "  - Body: `{\"status\": \"ok\" }`\n",
    "  - Explanation: the model is successfully loaded and the server is ready."
   ]
  },
  {
   "cell_type": "markdown",
   "id": "053136f9-92b5-4bb5-a43c-8256d01797bb",
   "metadata": {},
   "source": [
    "## Basic Example"
   ]
  },
  {
   "cell_type": "code",
   "execution_count": 21,
   "id": "a4e93c4a-010a-4f89-a43f-3d08a6d6dd63",
   "metadata": {},
   "outputs": [],
   "source": [
    "response = requests.post(\n",
    "    url=\"http://localhost:8080/completion\",\n",
    "    json={\n",
    "        \"prompt\": \"Why is the sky blue?\",\n",
    "    }\n",
    ")"
   ]
  },
  {
   "cell_type": "code",
   "execution_count": 23,
   "id": "618154b2-d978-40cf-b4e5-19684aeadba3",
   "metadata": {},
   "outputs": [
    {
     "data": {
      "application/json": {
       "content": "\n\n**Answer:**\n\nThe sky is blue due to a phenomenon called **Rayleigh scattering**. \n\n* Sunlight is composed of all the colors of the rainbow, each with a specific wavelength.\n* When sunlight interacts with molecules in the atmosphere, such as nitrogen and oxygen, the molecules scatter the light.\n* Different wavelengths of light are scattered differently.\n* Shorter wavelengths of light, like blue light, are scattered more efficiently than longer wavelengths.\n\n**Therefore:**\n\n* More blue light is scattered in all directions, reaching our eyes and making the sky appear blue.\n* Longer wavelengths of light, like red light, are scattered less and tend to travel in a straight line, away from our eyes.",
       "generation_settings": {
        "dynatemp_exponent": 1,
        "dynatemp_range": 0,
        "frequency_penalty": 0,
        "grammar": "",
        "ignore_eos": false,
        "max_tokens": -1,
        "min_keep": 0,
        "min_p": 0.05000000074505806,
        "mirostat": 0,
        "mirostat_eta": 0.10000000149011612,
        "mirostat_tau": 5,
        "model": "./models/gemma-1.1-7b-it.Q4_K_M.gguf",
        "n_ctx": 8192,
        "n_discard": 0,
        "n_keep": 0,
        "n_predict": -1,
        "n_probs": 0,
        "penalize_nl": false,
        "presence_penalty": 0,
        "repeat_last_n": 64,
        "repeat_penalty": 1,
        "samplers": [
         "top_k",
         "tfs_z",
         "typ_p",
         "top_p",
         "min_p",
         "temperature"
        ],
        "seed": 4294967295,
        "seed_cur": 1384450435,
        "stop": [],
        "stream": false,
        "temperature": 0.800000011920929,
        "tfs_z": 1,
        "top_k": 40,
        "top_p": 0.949999988079071,
        "typical_p": 1
       },
       "id_slot": 0,
       "index": 0,
       "model": "./models/gemma-1.1-7b-it.Q4_K_M.gguf",
       "prompt": "Why is the sky blue?",
       "stop": true,
       "stopped_eos": true,
       "stopped_limit": false,
       "stopped_word": false,
       "stopping_word": "",
       "timings": {
        "predicted_ms": 9232.309,
        "predicted_n": 145,
        "predicted_per_second": 15.705713489442351,
        "predicted_per_token_ms": 63.67109655172413,
        "prompt_ms": 1391.58,
        "prompt_n": 7,
        "prompt_per_second": 5.0302533810488805,
        "prompt_per_token_ms": 198.79714285714286
       },
       "tokens_cached": 151,
       "tokens_evaluated": 7,
       "tokens_predicted": 145,
       "truncated": false
      },
      "text/plain": [
       "<IPython.core.display.JSON object>"
      ]
     },
     "execution_count": 23,
     "metadata": {
      "application/json": {
       "expanded": false,
       "root": "root"
      }
     },
     "output_type": "execute_result"
    }
   ],
   "source": [
    "json_response = json.loads(response.content)\n",
    "JSON(json_response)"
   ]
  },
  {
   "cell_type": "code",
   "execution_count": 24,
   "id": "90560bce-4a2a-4e50-9895-3ce148d0f2e3",
   "metadata": {},
   "outputs": [
    {
     "data": {
      "text/markdown": [
       "\n",
       "\n",
       "**Answer:**\n",
       "\n",
       "The sky is blue due to a phenomenon called **Rayleigh scattering**. \n",
       "\n",
       "* Sunlight is composed of all the colors of the rainbow, each with a specific wavelength.\n",
       "* When sunlight interacts with molecules in the atmosphere, such as nitrogen and oxygen, the molecules scatter the light.\n",
       "* Different wavelengths of light are scattered differently.\n",
       "* Shorter wavelengths of light, like blue light, are scattered more efficiently than longer wavelengths.\n",
       "\n",
       "**Therefore:**\n",
       "\n",
       "* More blue light is scattered in all directions, reaching our eyes and making the sky appear blue.\n",
       "* Longer wavelengths of light, like red light, are scattered less and tend to travel in a straight line, away from our eyes."
      ],
      "text/plain": [
       "<IPython.core.display.Markdown object>"
      ]
     },
     "execution_count": 24,
     "metadata": {},
     "output_type": "execute_result"
    }
   ],
   "source": [
    "Markdown(json_response[\"content\"])"
   ]
  },
  {
   "cell_type": "markdown",
   "id": "56331f90-8af6-4eb5-806c-d98c38bd4084",
   "metadata": {},
   "source": []
  },
  {
   "cell_type": "markdown",
   "id": "89fa64f9-f476-469a-882c-00cb3a943ca2",
   "metadata": {},
   "source": []
  }
 ],
 "metadata": {
  "kernelspec": {
   "display_name": "Python 3 (ipykernel)",
   "language": "python",
   "name": "python3"
  },
  "language_info": {
   "codemirror_mode": {
    "name": "ipython",
    "version": 3
   },
   "file_extension": ".py",
   "mimetype": "text/x-python",
   "name": "python",
   "nbconvert_exporter": "python",
   "pygments_lexer": "ipython3",
   "version": "3.12.6"
  }
 },
 "nbformat": 4,
 "nbformat_minor": 5
}
