{
 "cells": [
  {
   "cell_type": "markdown",
   "id": "68f783e6-58ce-45d9-ab77-1b84807c5baf",
   "metadata": {},
   "source": [
    "# Getting started with LLaMA C++"
   ]
  },
  {
   "cell_type": "markdown",
   "id": "33df8c16-7f4f-4e93-aa19-fdcb0d8d1b3f",
   "metadata": {},
   "source": [
    "## Checking your LLaMA C++ installation"
   ]
  },
  {
   "cell_type": "code",
   "execution_count": null,
   "id": "ae5fcac2-8080-40f9-a5d6-cca763f7628c",
   "metadata": {},
   "outputs": [],
   "source": [
    "%%bash \n",
    "\n",
    "which llama-cli"
   ]
  },
  {
   "cell_type": "markdown",
   "id": "b9f033ad-3e2f-4553-a27b-d8cf1d1044ca",
   "metadata": {},
   "source": [
    "## Getting help!\n",
    "\n",
    "You can easily display a help message showing all available options and their default values. This is particularly useful for checking the latest options and default values, as they can change frequently, and the information in this document may become outdated.\n"
   ]
  },
  {
   "cell_type": "code",
   "execution_count": null,
   "id": "44679568-fbdd-4d27-90bf-3c0e70c36db9",
   "metadata": {
    "scrolled": true
   },
   "outputs": [],
   "source": [
    "%%bash\n",
    "\n",
    "llama-cli --help"
   ]
  },
  {
   "cell_type": "markdown",
   "id": "14733d12-35f0-4b0e-9767-23bad899c9aa",
   "metadata": {},
   "source": [
    "## Downloading a model"
   ]
  },
  {
   "cell_type": "markdown",
   "id": "f139a94c-9dc9-4ee7-9a24-6ec2b0858452",
   "metadata": {},
   "source": [
    "### Manually downloading a model from a URL"
   ]
  },
  {
   "cell_type": "code",
   "execution_count": null,
   "id": "45f69b90-573c-416b-8d78-cc8fb85ddd3d",
   "metadata": {},
   "outputs": [],
   "source": [
    "%%bash\n",
    "\n",
    "MODEL_URL=https://huggingface.co/ggml-org/gemma-1.1-7b-it-Q4_K_M-GGUF/resolve/main/gemma-1.1-7b-it.Q4_K_M.gguf\n",
    "curl --location --output ../models/gemma-1.1-7b-it.Q4_K_M.gguf $MODEL_URL\n"
   ]
  },
  {
   "cell_type": "code",
   "execution_count": null,
   "id": "0b3b85c3-3c81-4448-bbf9-3d59f89e40c5",
   "metadata": {},
   "outputs": [],
   "source": [
    "MODEL = \"../models/gemma-1.1-7b-it.Q4_K_M.gguf\""
   ]
  },
  {
   "cell_type": "markdown",
   "id": "7ca1c920-38ca-4544-b8f2-dfc96a118b6b",
   "metadata": {},
   "source": [
    "### Downloading a model from a URL"
   ]
  },
  {
   "cell_type": "code",
   "execution_count": null,
   "id": "692dfd13-0795-4943-b146-0d91a00b6aec",
   "metadata": {},
   "outputs": [],
   "source": [
    "%%bash\n",
    "\n",
    "export LLAMA_CACHE=\"../models\"\n",
    "\n",
    "MODEL_URL=https://huggingface.co/ggml-org/gemma-1.1-7b-it-Q4_K_M-GGUF/resolve/main/gemma-1.1-7b-it.Q4_K_M.gguf\n",
    "llama-cli --model-url \"$MODEL_URL\" --prompt \"Once upon a time\"\n"
   ]
  },
  {
   "cell_type": "code",
   "execution_count": null,
   "id": "35b5675a-5c20-44b2-a8a9-5af7ac00cc51",
   "metadata": {},
   "outputs": [],
   "source": [
    "MODEL = \"../models/gemma-1.1-7b-it.Q4_K_M.gguf\""
   ]
  },
  {
   "cell_type": "markdown",
   "id": "2f33a047-bb62-4c77-b05c-d2c0cd408eab",
   "metadata": {},
   "source": [
    "### Downloading a model from a Hugging Face repository"
   ]
  },
  {
   "cell_type": "code",
   "execution_count": null,
   "id": "e644e96b-1355-4a8e-8f2c-781194b91a27",
   "metadata": {},
   "outputs": [],
   "source": [
    "%%bash\n",
    "\n",
    "export LLAMA_CACHE=\"../models\"\n",
    "\n",
    "HF_REPO=\"ggml-org/gemma-1.1-7b-it-Q4_K_M-GGUF\"\n",
    "HF_MODEL_FILE=\"gemma-1.1-7b-it.Q4_K_M.gguf\"\n",
    "llama-cli --hf-repo \"$HF_REPO\" --hf-file \"$HF_MODEL_FILE\" --prompt \"Once upon a time\"\n"
   ]
  },
  {
   "cell_type": "code",
   "execution_count": null,
   "id": "5dea2b37-82cb-4301-b8a1-543f506d26dd",
   "metadata": {},
   "outputs": [],
   "source": [
    "MODEL = \"../models/gemma-1.1-7b-it.Q4_K_M.gguf\""
   ]
  },
  {
   "cell_type": "markdown",
   "id": "d82e622f-b34b-4404-8351-9705ffe21e59",
   "metadata": {},
   "source": [
    "## Basic text generation"
   ]
  },
  {
   "cell_type": "markdown",
   "id": "664e4ed5-7458-427a-bf79-838cecd6423f",
   "metadata": {},
   "source": [
    "### Simple prompting using `--prompt`\n",
    "\n",
    "After downloading the model file we can just pass the path to the model file as a command line argument using `-m` or `--model` to specify the path to the GGUF model file together with a prompt using the `--prompt` argument to generate a response.\n"
   ]
  },
  {
   "cell_type": "code",
   "execution_count": null,
   "id": "26dd5ac4-8d9d-44e4-9bf7-4f046508c3b5",
   "metadata": {},
   "outputs": [],
   "source": [
    "%%bash -s \"$MODEL\"\n",
    "\n",
    "llama-cli \\\n",
    "    --model \"$1\" \\\n",
    "    --prompt \"Once upon a time\"\n"
   ]
  },
  {
   "cell_type": "markdown",
   "id": "523dcebb-4cbd-4abc-8b26-c2978e32ce63",
   "metadata": {},
   "source": [
    "### More elaborate prompting using `--file`\n",
    "\n",
    "You can also prompt a model by providing one or more prompts stored in a file using the `--file` option. This is useful when you are working with longer prompts.\n"
   ]
  },
  {
   "cell_type": "code",
   "execution_count": null,
   "id": "30a9f43a-a001-4847-b995-77b3294767e8",
   "metadata": {},
   "outputs": [],
   "source": [
    "language = \"English\"\n",
    "tone_of_voice = \"Informative\"\n",
    "topic = \"Computer Science\"\n",
    "writing_style = \"Conversational\"\n",
    "\n",
    "prompt_template = f\"\"\"Please ignore all previous instructions. Please respond \\\n",
    "only in the {language} language. You are a Twitter influencer with a large \\\n",
    "following. You have a {tone_of_voice} tone of voice. You have a \\\n",
    "{writing_style} writing style. Do not self reference. Do not explain what you \\\n",
    "are doing. Please create a thread about {topic}. Add emojis to the thread \\\n",
    "when appropriate. The character count for each thread should be between 270 \\\n",
    "to 280 characters. Your content should be casual, informative, and an \\\n",
    "engaging Twitter thread. Please use simple and understandable words. Please \\\n",
    "include statistics, personal experience, and fun facts in the thread. Please \\\n",
    "add relevant hashtags to the post and encourage the readers join the \\\n",
    "conversation.\n",
    "\"\"\"\n"
   ]
  },
  {
   "cell_type": "code",
   "execution_count": null,
   "id": "f85285ed-ddcc-4997-b454-589885e74224",
   "metadata": {},
   "outputs": [],
   "source": [
    "print(prompt_template)"
   ]
  },
  {
   "cell_type": "code",
   "execution_count": null,
   "id": "b3e7ded9-d5ee-47c3-a5b6-cb1f6e29a771",
   "metadata": {},
   "outputs": [],
   "source": [
    "PROMPT_FILE = \"../prompts/engaging-twitter-thread.txt\"\n",
    "\n",
    "with open(PROMPT_FILE, 'w') as f:\n",
    "    f.write(prompt_template)\n"
   ]
  },
  {
   "cell_type": "code",
   "execution_count": null,
   "id": "579dc087-66ef-4804-a052-d5fb37176554",
   "metadata": {},
   "outputs": [],
   "source": [
    "%%bash -s \"$MODEL\" \"$PROMPT_FILE\"\n",
    "\n",
    "llama-cli \\\n",
    "    --model \"$1\" \\\n",
    "    --file  \"$2\"\n"
   ]
  },
  {
   "cell_type": "markdown",
   "id": "b472b323-ce2e-4d89-8110-eb88291a6a2f",
   "metadata": {},
   "source": [
    "### Don't want to always return your prompt?\n",
    "\n",
    "By default, the generated out will always display your prompt before returning the generated output. You can disable this behavior by providing the `--no-display-prompt` flag.\n"
   ]
  },
  {
   "cell_type": "code",
   "execution_count": null,
   "id": "f1c15b7c-664b-41ba-b04e-428031dd5a50",
   "metadata": {
    "scrolled": true
   },
   "outputs": [],
   "source": [
    "%%bash -s \"$MODEL\" \"$PROMPT_FILE\"\n",
    "\n",
    "llama-cli \\\n",
    "    --model \"$1\" \\\n",
    "    --file  \"$2\" \\\n",
    "    --no-display-prompt\n"
   ]
  },
  {
   "cell_type": "markdown",
   "id": "68fcc6c2-355f-4607-a0ec-265409afac08",
   "metadata": {},
   "source": [
    "## Interactive Modes\n",
    "\n",
    "The `llama-cli` program offers a seamless way to interact with models which allows users to engage in real-time conversations or provide instructions for specific tasks.\n",
    "\n",
    "-   `-i, --interactive`: Run the program in interactive mode, allowing users to engage in real-time conversations or provide specific instructions to the model.\n",
    "-   `--interactive-first`: Run the program in interactive mode and immediately wait for user input before starting the text generation.\n",
    "-   `-cnv,  --conversation`:  Run the program in conversation mode (does not print special tokens and suffix/prefix, use default chat template) (default: false)\n",
    "-   `--color`: Enable colorized output to differentiate visually distinguishing between prompts, user input, and generated text.\n",
    "\n",
    "By understanding and utilizing these interaction options, you can create engaging and dynamic experiences with your models, tailoring the text generation process to your specific needs.\n",
    "\n",
    "In interactive mode, users can participate in text generation by injecting their input during the process. Users can press `Ctrl+C` at any time to interject and type their input, followed by pressing `Return` to submit it to the LLaMA model. To submit additional lines without finalizing input, users can end the current line with a backslash (`\\`) and continue typing.\n"
   ]
  },
  {
   "cell_type": "markdown",
   "id": "3a97e86c-a0f6-4639-90d3-4fce3e8f9572",
   "metadata": {},
   "source": [
    "### `--interactive` example\n",
    "\n",
    "Open a new terminal and type the following command.\n",
    "\n",
    "```bash\n",
    "MODEL='./models/gemma-1.1-7b-it.Q4_K_M.gguf'\n",
    "llama-cli \\\n",
    "    --model \"$MODEL\" \\\n",
    "    --interactive \\\n",
    "    --color\n",
    "```"
   ]
  },
  {
   "cell_type": "markdown",
   "id": "ad9b5347-7b20-455c-b5e9-57a9f702d5dd",
   "metadata": {},
   "source": [
    "### `--interactive-first` example\n",
    "\n",
    "Open a new terminal and type the following command.\n",
    "\n",
    "```bash\n",
    "MODEL='./models/gemma-1.1-7b-it.Q4_K_M.gguf'\n",
    "llama-cli \\\n",
    "    --model \"$MODEL\" \\\n",
    "    --interactive-first \\\n",
    "    --color\n",
    "```"
   ]
  },
  {
   "cell_type": "markdown",
   "id": "91401292-f9a0-497a-b8cf-00c83f9d824e",
   "metadata": {},
   "source": [
    "### `--conversation` example\n",
    "\n",
    "Open a new terminal and type the following command.\n",
    "\n",
    "```bash\n",
    "MODEL='./models/gemma-1.1-7b-it.Q4_K_M.gguf'\n",
    "llama-cli \\\n",
    "    --model \"$MODEL\" \\\n",
    "    --conversation \\\n",
    "    --color\n",
    "```"
   ]
  },
  {
   "cell_type": "markdown",
   "id": "1482676a-0521-42e4-b664-cdfb603832c8",
   "metadata": {},
   "source": [
    "## Context Management\n",
    "\n",
    "During text generation, models have a limited context size, which means they can only consider a certain number of tokens from the input and generated text. When the context fills up, the model resets internally,  otentially losing some information from the beginning of the conversation or instructions. Context management options help maintain continuity and coherence in these situations."
   ]
  },
  {
   "cell_type": "markdown",
   "id": "3d9c4465-8973-4f7d-ae98-3dc0d00fb947",
   "metadata": {},
   "source": [
    "### Context Size\n",
    "\n",
    "The simplest way to manage the context size is to set the size of the prompt context directly using `--ctx-size`. By default, the context size will be inferred from the model file."
   ]
  },
  {
   "cell_type": "code",
   "execution_count": null,
   "id": "de63d677-2ba3-4326-91d2-1a7e49f9d2a7",
   "metadata": {},
   "outputs": [],
   "source": [
    "%%bash -s \"$MODEL\" \"$PROMPT_FILE\"\n",
    "\n",
    "llama-cli \\\n",
    "    --model \"$1\" \\\n",
    "    --file  \"$2\" \\\n",
    "    --ctx-size 256\n"
   ]
  },
  {
   "cell_type": "markdown",
   "id": "bc7e3780-7b64-4f31-9223-382a0e792754",
   "metadata": {},
   "source": [
    "### Keep Prompt\n",
    "\n",
    "The `--keep` option allows users to retain the original prompt when the model runs out of context, ensuring a connection to the initial instruction or conversation topic is maintained. Using the `--keep N` option you can directly specify the number of tokens from the initial prompt to retain when the model resets its internal context. By default, this value is set to 0 (meaning no tokens are kept). Use `-1` to retain all tokens from the initial prompt.\n"
   ]
  },
  {
   "cell_type": "code",
   "execution_count": null,
   "id": "32c166bc-9ea9-4c61-8f4a-abf238794a0f",
   "metadata": {},
   "outputs": [],
   "source": [
    "%%bash -s \"$MODEL\" \"$PROMPT_FILE\"\n",
    "\n",
    "llama-cli \\\n",
    "    --model \"$1\" \\\n",
    "    --file  \"$2\" \\\n",
    "    --ctx-size 256 \\\n",
    "    --keep -1\n"
   ]
  },
  {
   "cell_type": "code",
   "execution_count": null,
   "id": "93b88e2e-57f8-4d5b-b752-8671cabed28c",
   "metadata": {},
   "outputs": [],
   "source": []
  }
 ],
 "metadata": {
  "kernelspec": {
   "display_name": "Python 3 (ipykernel)",
   "language": "python",
   "name": "python3"
  },
  "language_info": {
   "codemirror_mode": {
    "name": "ipython",
    "version": 3
   },
   "file_extension": ".py",
   "mimetype": "text/x-python",
   "name": "python",
   "nbconvert_exporter": "python",
   "pygments_lexer": "ipython3",
   "version": "3.13.0"
  }
 },
 "nbformat": 4,
 "nbformat_minor": 5
}
