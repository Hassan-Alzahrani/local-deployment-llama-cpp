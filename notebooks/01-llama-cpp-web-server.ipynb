{
 "cells": [
  {
   "cell_type": "markdown",
   "id": "a736593e-89eb-48cb-bf10-4e72d1b7e25e",
   "metadata": {},
   "source": [
    "# Web server\n",
    "\n",
    "[llama.cpp web server](./examples/server/README.md) is a lightweight [OpenAI API](https://github.com/openai/openai-openapi) compatible HTTP server that can be used to serve local models and easily connect them to existing clients.\n",
    "\n",
    "Example usage:\n",
    "\n",
    "```bash\n",
    "./llama-server -m your_model.gguf --port 8080\n",
    "\n",
    "# Basic web UI can be accessed via browser: http://localhost:8080\n",
    "# Chat completion endpoint: http://localhost:8080/v1/chat/completions\n",
    "```"
   ]
  }
 ],
 "metadata": {
  "kernelspec": {
   "display_name": "Python 3 (ipykernel)",
   "language": "python",
   "name": "python3"
  },
  "language_info": {
   "codemirror_mode": {
    "name": "ipython",
    "version": 3
   },
   "file_extension": ".py",
   "mimetype": "text/x-python",
   "name": "python",
   "nbconvert_exporter": "python",
   "pygments_lexer": "ipython3",
   "version": "3.12.6"
  }
 },
 "nbformat": 4,
 "nbformat_minor": 5
}
