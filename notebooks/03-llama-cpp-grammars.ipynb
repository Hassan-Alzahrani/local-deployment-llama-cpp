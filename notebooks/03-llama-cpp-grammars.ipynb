{
 "cells": [
  {
   "cell_type": "markdown",
   "id": "de13ea35-401c-4681-8cdc-9ebd610f6c71",
   "metadata": {},
   "source": [
    "### Constrained output with grammars\n",
    "\n",
    "`llama.cpp` supports grammars to constrain model output. For example, you can force the model to output JSON only:\n",
    "\n",
    "```bash\n",
    "./llama-cli -m ./models/13B/ggml-model-q4_0.gguf -n 256 --grammar-file grammars/json.gbnf -p 'Request: schedule a call at 8pm; Command:'\n",
    "```\n",
    "\n",
    "The `grammars/` folder contains a handful of sample grammars. To write your own, check out the [GBNF Guide](./grammars/README.md).\n",
    "\n",
    "For authoring more complex JSON grammars, you can also check out https://grammar.intrinsiclabs.ai/, a browser app that lets you write TypeScript interfaces which it compiles to GBNF grammars that you can save for local use. Note that the app is built and maintained by members of the community, please file any issues or FRs on [its repo](http://github.com/intrinsiclabsai/gbnfgen) and not this one.\n"
   ]
  }
 ],
 "metadata": {
  "kernelspec": {
   "display_name": "Python 3 (ipykernel)",
   "language": "python",
   "name": "python3"
  },
  "language_info": {
   "codemirror_mode": {
    "name": "ipython",
    "version": 3
   },
   "file_extension": ".py",
   "mimetype": "text/x-python",
   "name": "python",
   "nbconvert_exporter": "python",
   "pygments_lexer": "ipython3",
   "version": "3.12.6"
  }
 },
 "nbformat": 4,
 "nbformat_minor": 5
}
