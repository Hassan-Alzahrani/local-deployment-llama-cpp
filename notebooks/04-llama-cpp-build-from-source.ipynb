{
 "cells": [
  {
   "cell_type": "markdown",
   "id": "1a524a73-e148-451c-9415-83079b56eab0",
   "metadata": {},
   "source": [
    "## Build\n",
    "\n",
    "Please refer to [Build llama.cpp locally](./docs/build.md)\n",
    "\n",
    "## Supported backends\n",
    "\n",
    "| Backend | Target devices |\n",
    "| --- | --- |\n",
    "| [Metal](./docs/build.md#metal-build) | Apple Silicon |\n",
    "| [BLAS](./docs/build.md#blas-build) | All |\n",
    "| [BLIS](./docs/backend/BLIS.md) | All |\n",
    "| [SYCL](./docs/backend/SYCL.md) | Intel and Nvidia GPU |\n",
    "| [MUSA](./docs/build.md#musa) | Moore Threads GPU |\n",
    "| [CUDA](./docs/build.md#cuda) | Nvidia GPU |\n",
    "| [hipBLAS](./docs/build.md#hipblas) | AMD GPU |\n",
    "| [Vulkan](./docs/build.md#vulkan) | GPU |\n",
    "| [CANN](./docs/build.md#cann) | Ascend NPU |"
   ]
  }
 ],
 "metadata": {
  "kernelspec": {
   "display_name": "Python 3 (ipykernel)",
   "language": "python",
   "name": "python3"
  },
  "language_info": {
   "codemirror_mode": {
    "name": "ipython",
    "version": 3
   },
   "file_extension": ".py",
   "mimetype": "text/x-python",
   "name": "python",
   "nbconvert_exporter": "python",
   "pygments_lexer": "ipython3",
   "version": "3.12.6"
  }
 },
 "nbformat": 4,
 "nbformat_minor": 5
}
